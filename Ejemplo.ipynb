{
 "cells": [
  {
   "cell_type": "code",
   "execution_count": null,
   "metadata": {},
   "outputs": [],
   "source": [
    "# Librerías\n",
    "import requests\n",
    "import pandas as pd\n",
    "import json\n",
    "from google.colab import files"
   ]
  },
  {
   "cell_type": "markdown",
   "metadata": {},
   "source": [
    "# Obtener datos de condiciones atmosfericas"
   ]
  },
  {
   "cell_type": "code",
   "execution_count": null,
   "metadata": {},
   "outputs": [],
   "source": [
    "solicitudDeDatos = requests.get('https://api.datos.gob.mx/v1/condiciones-atmosfericas')"
   ]
  },
  {
   "cell_type": "markdown",
   "metadata": {},
   "source": [
    "# Convertir datos en JSON"
   ]
  },
  {
   "cell_type": "code",
   "execution_count": null,
   "metadata": {},
   "outputs": [],
   "source": [
    "datos_json = solicitudDeDatos.json()"
   ]
  },
  {
   "cell_type": "markdown",
   "metadata": {},
   "source": [
    "# Convertir datos en un dataframe"
   ]
  },
  {
   "cell_type": "code",
   "execution_count": null,
   "metadata": {},
   "outputs": [],
   "source": [
    "dataframe_parcial = pd.DataFrame()\n",
    "df = pd.DataFrame()\n",
    "\n",
    "for item in datos_json.get('results'):\n",
    "  #print(item.keys())\n",
    "  for key in item.keys():\n",
    "    data = {\n",
    "        '_id': [item.get('_id')],\n",
    "        'cityid': [item.get('cityid')],\n",
    "        'validdateutc': [item.get('validdateutc')],\n",
    "        'winddirectioncardinal': [item.get('winddirectioncardinal')],\n",
    "        'probabilityofprecip': [item.get('probabilityofprecip')],\n",
    "        'relativehumidity': [item.get('relativehumidity')],\n",
    "        'name': [item.get('name')],\n",
    "        'date-insert': [item.get('date-insert')],\n",
    "        'longitude': [item.get('longitude')],\n",
    "        'state': [item.get('state')],\n",
    "        'lastreporttime': [item.get('lastreporttime')],\n",
    "        'skydescriptionlong': [item.get('skydescriptionlong')],\n",
    "        'stateabbr': [item.get('stateabbr')],\n",
    "        'tempc': [item.get('tempc')],\n",
    "        'latitude': [item.get('latitude')],\n",
    "        'iconcode': [item.get('iconcode')],\n",
    "        'windspeedkm': [item.get('windspeedkm')]\n",
    "        }\n",
    "    dataframe_parcial = pd.DataFrame(data)\n",
    "    df = pd.concat([df, dataframe_parcial])    "
   ]
  },
  {
   "cell_type": "markdown",
   "metadata": {},
   "source": [
    "# Exportar datos a Excel"
   ]
  },
  {
   "cell_type": "code",
   "execution_count": null,
   "metadata": {},
   "outputs": [],
   "source": [
    "df.to_excel('datosEnExcel.xlsx', index=False)\n",
    "files.download('datosEnExcel.xlsx')"
   ]
  }
 ],
 "metadata": {
  "kernelspec": {
   "display_name": "Python 3",
   "language": "python",
   "name": "python3"
  },
  "language_info": {
   "name": "python",
   "version": "3.10.11"
  },
  "orig_nbformat": 4
 },
 "nbformat": 4,
 "nbformat_minor": 2
}
